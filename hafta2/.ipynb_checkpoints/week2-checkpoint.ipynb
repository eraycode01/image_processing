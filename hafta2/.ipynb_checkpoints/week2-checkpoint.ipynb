{
 "cells": [
  {
   "cell_type": "code",
   "execution_count": null,
   "id": "c53b2d1f",
   "metadata": {},
   "outputs": [
    {
     "name": "stdout",
     "output_type": "stream",
     "text": [
      "1431900\n",
      "uint8\n",
      "(740, 645, 3)\n"
     ]
    }
   ],
   "source": [
    "import cv2\n",
    "import numpy as np\n",
    "\n",
    "resim1 = cv2.imread(\"akciger.png\")\n",
    "\n",
    "cv2.imshow(\"araba\",resim1)\n",
    "\n",
    "print(resim1.size)\n",
    "\n",
    "print(resim1.dtype)\n",
    "\n",
    "print(resim1.shape)\n",
    "\n",
    "cv2.waitKey(0)\n",
    "cv2.destroyAllWindows()"
   ]
  },
  {
   "cell_type": "code",
   "execution_count": 1,
   "id": "612ea7a3",
   "metadata": {},
   "outputs": [
    {
     "name": "stdout",
     "output_type": "stream",
     "text": [
      "type: <class 'numpy.ndarray'>\n",
      "a = \n",
      " [[ 1  4  5]\n",
      " [-5  8  9]\n",
      " [ 6  8 10]\n",
      " [ 0  2 38]] \n",
      "\n",
      "a[1] = [-5  8  9]\n",
      "a[1][2] = 9\n",
      "a[0][-1] = 5\n"
     ]
    }
   ],
   "source": [
    "import numpy as np\n",
    "\n",
    "a = np.array([[1, 4, 5],\n",
    "             [-5, 8, 9],\n",
    "             [6, 8, 10],\n",
    "             [0, 2, 38],])\n",
    "\n",
    "print(\"type:\", type(a))\n",
    "print(\"a =\", \"\\n\",a, \"\\n\")\n",
    "print(\"a[1] =\", a[1])\n",
    "print(\"a[1][2] =\", a[1][2])\n",
    "print(\"a[0][-1] =\", a[0][-1])"
   ]
  },
  {
   "cell_type": "code",
   "execution_count": 1,
   "id": "98e66cca",
   "metadata": {},
   "outputs": [
    {
     "data": {
      "text/plain": [
       "array([2, 3, 9])"
      ]
     },
     "execution_count": 1,
     "metadata": {},
     "output_type": "execute_result"
    }
   ],
   "source": [
    "import numpy as np\n",
    "C = np.array([[1, 1, 2],[3, 5, 3],[5, 6, 9]])\n",
    "C[:,2]"
   ]
  },
  {
   "cell_type": "code",
   "execution_count": 2,
   "id": "c861ec21",
   "metadata": {},
   "outputs": [
    {
     "name": "stdout",
     "output_type": "stream",
     "text": [
      "[ 9 12 14]\n",
      "[ 9 12 14]\n"
     ]
    }
   ],
   "source": [
    "C = np.array([[1, 1, 2],[3, 5, 3],[5, 6, 9]])\n",
    "s = sum(C[ : ])\n",
    "print(s)\n",
    "a = sum(C)\n",
    "print(a)"
   ]
  },
  {
   "cell_type": "code",
   "execution_count": null,
   "id": "7a69c745",
   "metadata": {},
   "outputs": [],
   "source": []
  }
 ],
 "metadata": {
  "kernelspec": {
   "display_name": "Python 3 (ipykernel)",
   "language": "python",
   "name": "python3"
  },
  "language_info": {
   "codemirror_mode": {
    "name": "ipython",
    "version": 3
   },
   "file_extension": ".py",
   "mimetype": "text/x-python",
   "name": "python",
   "nbconvert_exporter": "python",
   "pygments_lexer": "ipython3",
   "version": "3.9.13"
  }
 },
 "nbformat": 4,
 "nbformat_minor": 5
}
